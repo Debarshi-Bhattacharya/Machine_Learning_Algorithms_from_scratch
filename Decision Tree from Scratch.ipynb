{
 "cells": [
  {
   "cell_type": "code",
   "execution_count": 3,
   "metadata": {},
   "outputs": [],
   "source": [
    "import numpy as np\n",
    "import pandas as pd\n",
    "import matplotlib.pyplot as plt\n",
    "import seaborn as sns\n",
    "import random\n",
    "from pprint import pprint"
   ]
  },
  {
   "cell_type": "code",
   "execution_count": 4,
   "metadata": {},
   "outputs": [],
   "source": [
    "df=pd.read_csv(r'C:\\Users\\user\\Desktop\\ML Data\\Iris.csv')\n",
    "df=df.drop(\"Id\",axis=1)#deleting the index column"
   ]
  },
  {
   "cell_type": "code",
   "execution_count": 39,
   "metadata": {},
   "outputs": [],
   "source": [
    "from sklearn.model_selection import train_test_split\n",
    "df_train,df_test=train_test_split(df, test_size = 0.2, random_state = 0)\n",
    "df_pd=df_train\n",
    "data=df_train.values#For smaller dataset instead of pandas dataframe the use of data stored in numpy2D array\n",
    "#makes the algorithm faster, so we are converting our data numpy2Darray"
   ]
  },
  {
   "cell_type": "markdown",
   "metadata": {},
   "source": [
    "# Data pure?\n"
   ]
  },
  {
   "cell_type": "code",
   "execution_count": 6,
   "metadata": {},
   "outputs": [
    {
     "data": {
      "text/plain": [
       "Text(0, 0.5, 'Petal_length')"
      ]
     },
     "execution_count": 6,
     "metadata": {},
     "output_type": "execute_result"
    },
    {
     "data": {
      "image/png": "[encoded data removed]",
      "text/plain": [
       "<Figure size 432x288 with 1 Axes>"
      ]
     },
     "metadata": {
      "needs_background": "light"
     },
     "output_type": "display_data"
    }
   ],
   "source": [
    "colors = {'Iris-setosa':'r', 'Iris-versicolor':'g', 'Iris-virginica':'b'}\n",
    "# create a figure and axis\n",
    "fig, ax = plt.subplots()\n",
    "# plot each data-point\n",
    "for i in range(len(df['PetalLengthCm'])):\n",
    "    ax.scatter( df['PetalWidthCm'][i],df['PetalLengthCm'][i],color=colors[df['Species'][i]])\n",
    "# set a title and labels\n",
    "ax.set_title('Iris Dataset')\n",
    "ax.set_xlabel('Petal_width')\n",
    "ax.set_ylabel('Petal_length')"
   ]
  },
  {
   "cell_type": "markdown",
   "metadata": {},
   "source": [
    "As we can see there are 3classes(red green blue),i.e, the data is not pure ; so we can't classify them easily."
   ]
  },
  {
   "cell_type": "markdown",
   "metadata": {},
   "source": [
    "# Function to check if the given data is pure or not?"
   ]
  },
  {
   "cell_type": "code",
   "execution_count": 20,
   "metadata": {},
   "outputs": [],
   "source": [
    "def check_purity(data):\n",
    "    label_column=data[:,-1]#we are accesing the last column ,i.e, the species(class) column\n",
    "    unique_classes=np.unique(label_column)#unique function returns array of the distinct classes present in label_column\n",
    "    if len(unique_classes)==1:# if there is only '1'class then the data is pure hence returning true\n",
    "        return True\n",
    "    else:\n",
    "        return False#data is not pure as having multiple classes\n",
    "    "
   ]
  },
  {
   "cell_type": "markdown",
   "metadata": {},
   "source": [
    "# classify _fucntion"
   ]
  },
  {
   "cell_type": "code",
   "execution_count": 7,
   "metadata": {},
   "outputs": [],
   "source": [
    "#if the data is pure you will clasify the data that which class they belong to ,\n",
    "#but for very small data(size<5) we doesn't check the data is pure or not; instead \n",
    "#we take the class which present most no of of times in that case\n",
    "def classify_data(data):\n",
    "    label_column=data[:,-1]\n",
    "    unique_classes,count_unique_classes=np.unique(label_column,return_counts=True)#here we also returning a numpy array(count_\n",
    "    #unique_classes) containing the no of time each distinct classs appears in class column\n",
    "    index=count_unique_classes.argmax()#argmax will return the index of maximum element in the ndarray,i.e,the maximum count\n",
    "    #of presence of a particular class among the all the classes(although for large data will be pure and we will always get count 1)\n",
    "    classification=unique_classes[index]\n",
    "    return classification\n",
    "    "
   ]
  },
  {
   "cell_type": "markdown",
   "metadata": {},
   "source": [
    "# Potential_splits"
   ]
  },
  {
   "cell_type": "code",
   "execution_count": 8,
   "metadata": {},
   "outputs": [],
   "source": [
    "def get_potential_splits(data):\n",
    "    \n",
    "    potential_splits={}#this a dictionary to hold the split values according the column indexes or features(which are the keys)\n",
    "    _,n_columns=data.shape#no of columns of the data are stored in n_column variable\n",
    "    \n",
    "    for column_index in range(n_columns-1):\n",
    "        potential_splits[column_index]=[]#for every itration,i.e,for each column/key, we are storing the corresponding \n",
    "        #potential_splits into a list so a creating a empty list \n",
    "        values=data[:,column_index]#we are taking values for all the rows for a given column index\n",
    "        unique_values=np.unique(values)#and storing the unique values among them to a numpy array\n",
    "        \n",
    "        for index in range(len(unique_values)):#no by iterating over the no of unique values we will append the mid value between\n",
    "            #two unique values and append to the the dictonary potential_split for the given column_index(feature)\n",
    "           \n",
    "            if index!=0:\n",
    "                current_value=unique_values[index]\n",
    "                previous_value=unique_values[index-1]\n",
    "                potential_split=(current_value+previous_value)/2\n",
    "                potential_splits[column_index].append(potential_split)\n",
    "    \n",
    "  \n",
    "    return potential_splits\n",
    "                \n",
    "                \n",
    "        "
   ]
  },
  {
   "cell_type": "code",
   "execution_count": 9,
   "metadata": {
    "scrolled": true
   },
   "outputs": [],
   "source": [
    "potential_splits=get_potential_splits(df_train.values)\n",
    "\n"
   ]
  },
  {
   "cell_type": "code",
   "execution_count": 10,
   "metadata": {},
   "outputs": [
    {
     "data": {
      "text/plain": [
       "<matplotlib.collections.LineCollection at 0x241f0afc438>"
      ]
     },
     "execution_count": 10,
     "metadata": {},
     "output_type": "execute_result"
    },
    {
     "data": {
      "image/png": "[encoded data removed]",
      "text/plain": [
       "<Figure size 751.5x432 with 1 Axes>"
      ]
     },
     "metadata": {
      "needs_background": "light"
     },
     "output_type": "display_data"
    }
   ],
   "source": [
    "sns.lmplot(data=df_train,x=\"PetalWidthCm\",y=\"PetalLengthCm\",hue=\"Species\",fit_reg=False,height=6,aspect=1.5)#scatter plot\n",
    "\n",
    "plt.vlines(x=potential_splits[3],ymin=1,ymax=7)#we are drawing vertical splitting lines in accordance with column index=3,i.e,\n",
    "#the feature \"Petal_width\"\n"
   ]
  },
  {
   "cell_type": "code",
   "execution_count": 11,
   "metadata": {},
   "outputs": [
    {
     "data": {
      "text/plain": [
       "<matplotlib.collections.LineCollection at 0x241f0b36160>"
      ]
     },
     "execution_count": 11,
     "metadata": {},
     "output_type": "execute_result"
    },
    {
     "data": {
      "image/png": "[encoded data removed]",
      "text/plain": [
       "<Figure size 751.5x432 with 1 Axes>"
      ]
     },
     "metadata": {
      "needs_background": "light"
     },
     "output_type": "display_data"
    }
   ],
   "source": [
    "sns.lmplot(data=df_train,x=\"PetalWidthCm\",y=\"PetalLengthCm\",hue=\"Species\",fit_reg=False,height=6,aspect=1.5)\n",
    "plt.hlines(y=potential_splits[2],xmin=0,xmax=2.5)#we are drawing horizontal splitting lines in accordance with column \n",
    "#index=2,i.e,the feature \"Petal_length\""
   ]
  },
  {
   "cell_type": "markdown",
   "metadata": {},
   "source": [
    "# Lowest_overall_entropy"
   ]
  },
  {
   "cell_type": "markdown",
   "metadata": {},
   "source": []
  },
  {
   "cell_type": "code",
   "execution_count": 12,
   "metadata": {},
   "outputs": [],
   "source": [
    "def calculate_entropy(data):\n",
    "    lable_column=data[:,-1]\n",
    "    _,counts=np.unique(lable_column,return_counts=True)#here we're only storing the no of times each class repeats in the class\n",
    "    #column in to a numpy_array\n",
    "    probabilities=counts/counts.sum()#as numpy do element wise opeartion \"probabilities\" is numpy_array containing the \n",
    "    #probabilties of each classes\n",
    "    entropy=sum(probabilities*-np.log2(probabilities))\n",
    "   \n",
    "    return entropy"
   ]
  },
  {
   "cell_type": "code",
   "execution_count": 13,
   "metadata": {},
   "outputs": [],
   "source": [
    "def calculate_information_gain(data,data_below,data_above):\n",
    "    n_data_points=len(data_below)+len(data_above)\n",
    "    \n",
    "    p_data_below=len(data_below)/n_data_points\n",
    "    p_data_above=len(data_above)/n_data_points\n",
    "    \n",
    "    information_gain=calculate_entropy(data)-((p_data_below*calculate_entropy(data_below)+p_data_above*calculate_entropy(data_above)))\n",
    "    \n",
    "    return information_gain"
   ]
  },
  {
   "cell_type": "markdown",
   "metadata": {},
   "source": [
    "# split_data"
   ]
  },
  {
   "cell_type": "code",
   "execution_count": 14,
   "metadata": {},
   "outputs": [],
   "source": [
    "def split_data(data,split_column,split_value):\n",
    "    \n",
    "    split_column_values=data[:,split_column]\n",
    "    \n",
    "    data_below=data[split_column_values <= split_value]\n",
    "    data_above=data[split_column_values > split_value]\n",
    "    \n",
    "    return data_below,data_above"
   ]
  },
  {
   "cell_type": "code",
   "execution_count": 15,
   "metadata": {},
   "outputs": [],
   "source": [
    "potential_splits=get_potential_splits(data)\n"
   ]
  },
  {
   "cell_type": "code",
   "execution_count": 16,
   "metadata": {},
   "outputs": [],
   "source": [
    "def best_split_determination(data,potential_splits):\n",
    "    max_information_gain=0\n",
    "    for column_index in potential_splits:\n",
    "        for value in potential_splits[column_index]:\n",
    "            data_below,data_above=split_data(data,column_index,value)\n",
    "            information_gain=calculate_information_gain(data,data_below,data_above)\n",
    "            if information_gain>=max_information_gain:\n",
    "                max_information_gain=information_gain\n",
    "                best_split_column=column_index\n",
    "                best_split_value=value\n",
    "       \n",
    "    return best_split_column,best_split_value\n",
    "    "
   ]
  },
  {
   "cell_type": "code",
   "execution_count": 17,
   "metadata": {},
   "outputs": [
    {
     "data": {
      "text/plain": [
       "(3, 0.8)"
      ]
     },
     "execution_count": 17,
     "metadata": {},
     "output_type": "execute_result"
    }
   ],
   "source": [
    "best_split_determination(data,potential_splits)"
   ]
  },
  {
   "cell_type": "markdown",
   "metadata": {},
   "source": [
    "# Decision Tree Algorithm\n"
   ]
  },
  {
   "cell_type": "raw",
   "metadata": {},
   "source": [
    "sub_tree = {question: [yes_answer,no_answer]}"
   ]
  },
  {
   "cell_type": "code",
   "execution_count": null,
   "metadata": {},
   "outputs": [],
   "source": [
    "example_tree={\"petal_width<=0.8\":[\"Iris_setosa\",\n",
    "                                  {\"petal_width<=1.65\":[{\"petal_length<=4.9\":[\"Iris_versicolor\",\"Iris_virginica\"]},\n",
    "                                                        \"Iris_verginica\"]}]}"
   ]
  },
  {
   "cell_type": "code",
   "execution_count": 40,
   "metadata": {},
   "outputs": [],
   "source": [
    "def decision_tree_algorithm(df,df_pd, counter=0):#df_pd is pandas_dataframe of training_data for getting the column names of best_split_columns\n",
    "    #in the subtrees\n",
    "    #data preperation; our fucntion is a recursie one for first call the data that goes to the function is of pandas data frame\n",
    "    #but from second call it is converting to numpy2Darray for sake of faster algorithm , \n",
    "    #so only we need to convert the data to numpy2Darray in first call\n",
    "    if counter==0:#for first call\n",
    "        data=df.values\n",
    "    else:\n",
    "        data=df\n",
    "        \n",
    "    #base case\n",
    "    if check_purity(data):#if data is pure\n",
    "        classification =classify_data(data)\n",
    "        return classification\n",
    "    \n",
    "    #recursive part\n",
    "    else:\n",
    "        counter+=1\n",
    "        \n",
    "        potential_splits=get_potential_splits(data)#all possible splits\n",
    "        best_split_column,best_split_value=best_split_determination(data,potential_splits)#gives best split\n",
    "        data_below,data_above=split_data(data,best_split_column,best_split_value)\n",
    "        \n",
    "        #initiate__sub-tree\n",
    "        question= \"{}<={}\".format(df_pd.columns.values[best_split_column],best_split_value)#for example (\"petal_width<=0.8\")\n",
    "        sub_tree={question: []}#into the empty list of dictionary we will append our yes_answer and no_answer\n",
    "        \n",
    "        #find answers \n",
    "        yes_answer=decision_tree_algorithm(data_below,df_pd, counter)\n",
    "        no_answer=decision_tree_algorithm(data_above, df_pd,counter)\n",
    "        \n",
    "        sub_tree[question].append(yes_answer)\n",
    "        sub_tree[question].append(no_answer)\n",
    "        \n",
    "        return sub_tree"
   ]
  },
  {
   "cell_type": "code",
   "execution_count": 41,
   "metadata": {},
   "outputs": [
    {
     "data": {
      "text/plain": [
       "{'PetalWidthCm<=0.8': ['Iris-setosa',\n",
       "  {'PetalWidthCm<=1.75': [{'PetalLengthCm<=4.95': [{'PetalWidthCm<=1.65': ['Iris-versicolor',\n",
       "        'Iris-virginica']},\n",
       "      {'PetalWidthCm<=1.55': ['Iris-virginica',\n",
       "        {'PetalLengthCm<=5.449999999999999': ['Iris-versicolor',\n",
       "          'Iris-virginica']}]}]},\n",
       "    {'PetalLengthCm<=4.85': [{'SepalWidthCm<=3.1': ['Iris-virginica',\n",
       "        'Iris-versicolor']},\n",
       "      'Iris-virginica']}]}]}"
      ]
     },
     "execution_count": 41,
     "metadata": {},
     "output_type": "execute_result"
    }
   ],
   "source": [
    "tree=decision_tree_algorithm(df_train,df_pd)\n",
    "tree"
   ]
  }
 ],
 "metadata": {
  "kernelspec": {
   "display_name": "Python 3",
   "language": "python",
   "name": "python3"
  },
  "language_info": {
   "codemirror_mode": {
    "name": "ipython",
    "version": 3
   },
   "file_extension": ".py",
   "mimetype": "text/x-python",
   "name": "python",
   "nbconvert_exporter": "python",
   "pygments_lexer": "ipython3",
   "version": "3.7.3"
  }
 },
 "nbformat": 4,
 "nbformat_minor": 4
}
